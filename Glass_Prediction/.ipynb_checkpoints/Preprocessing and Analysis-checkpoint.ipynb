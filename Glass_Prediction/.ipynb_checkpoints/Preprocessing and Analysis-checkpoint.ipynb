{
 "cells": [
  {
   "cell_type": "code",
   "execution_count": 1,
   "metadata": {
    "collapsed": true
   },
   "outputs": [],
   "source": [
    "import pandas as pd\n",
    "df = pd.read_csv(\"glass.csv\")\n",
    "# df.head()"
   ]
  },
  {
   "cell_type": "code",
   "execution_count": 2,
   "metadata": {
    "collapsed": true
   },
   "outputs": [],
   "source": [
    "# df.isnull().sum()"
   ]
  },
  {
   "cell_type": "code",
   "execution_count": 3,
   "metadata": {
    "collapsed": true
   },
   "outputs": [],
   "source": [
    "accuracy_dic = {}\n",
    "x = df.iloc[:,:-2].values\n",
    "y = df.iloc[:,9].values\n",
    "# [:,9] return row vector\n",
    "# [:,9:10] return column vector"
   ]
  },
  {
   "cell_type": "code",
   "execution_count": 4,
   "metadata": {
    "collapsed": true
   },
   "outputs": [],
   "source": [
    "from sklearn.model_selection import train_test_split\n",
    "x_train,x_test,y_train,y_test = train_test_split(x,y,test_size=0.33,random_state=0)"
   ]
  },
  {
   "cell_type": "code",
   "execution_count": 5,
   "metadata": {},
   "outputs": [
    {
     "name": "stdout",
     "output_type": "stream",
     "text": [
      "57.75 percent\n"
     ]
    }
   ],
   "source": [
    "#logistic Regression\n",
    "\n",
    "from sklearn.linear_model import LogisticRegression\n",
    "from sklearn.metrics import accuracy_score\n",
    "# for binary model, only 2 categories\n",
    "# clf = LogisticRegression(multi_class='ovr',solver='liblinear',C=.5) \n",
    "# for multi-value model, more than 2 categories set solver='lbfgs' / 'newton-cg'#\n",
    "clf = LogisticRegression(multi_class='multinomial',solver='newton-cg') \n",
    "\n",
    "# clf = LogisticRegression()\n",
    "clf.fit(x_train,y_train)\n",
    "y_pred_log_reg = clf.predict(x_test)\n",
    "acc_log_reg = round(accuracy_score(y_pred_log_reg,y_test)*100,2)\n",
    "accuracy_dic[\"Log_Reg\"]=acc_log_reg\n",
    "print (str(accuracy_dic[\"Log_Reg\"])+\" percent\")"
   ]
  },
  {
   "cell_type": "code",
   "execution_count": 6,
   "metadata": {},
   "outputs": [
    {
     "name": "stdout",
     "output_type": "stream",
     "text": [
      "69.01 percent\n"
     ]
    }
   ],
   "source": [
    "# K_NN\n",
    "\n",
    "from sklearn.neighbors import KNeighborsClassifier\n",
    "\n",
    "# use weights = 'distance', if you want to give more power to nearest neighbors. Bydefault it is uniform. \n",
    "# http://scikit-learn.org/stable/modules/neighbors.html\n",
    "clf = KNeighborsClassifier(n_neighbors=6)\n",
    "\n",
    "clf.fit(x_train,y_train)\n",
    "y_pred_knn = clf.predict(x_test)\n",
    "acc_knn = round(accuracy_score(y_pred_knn,y_test)*100,2)\n",
    "accuracy_dic[\"acc_knn\"]=acc_knn\n",
    "print (str(accuracy_dic[\"acc_knn\"])+\" percent\")"
   ]
  },
  {
   "cell_type": "code",
   "execution_count": 7,
   "metadata": {},
   "outputs": [
    {
     "name": "stdout",
     "output_type": "stream",
     "text": [
      "49.3 percent\n"
     ]
    }
   ],
   "source": [
    "# Naive Baye's\n",
    "\n",
    "from sklearn.naive_bayes import GaussianNB\n",
    "clf = GaussianNB()\n",
    "clf.fit(x_train,y_train)\n",
    "y_pred_gnb = clf.predict(x_test)\n",
    "from sklearn.metrics import accuracy_score\n",
    "acc_gnb = round(accuracy_score(y_pred_gnb, y_test) * 100, 2)\n",
    "accuracy_dic[\"acc_gnb\"] = acc_gnb\n",
    "print (str(acc_gnb) + ' percent')"
   ]
  },
  {
   "cell_type": "code",
   "execution_count": 8,
   "metadata": {},
   "outputs": [
    {
     "name": "stdout",
     "output_type": "stream",
     "text": [
      "64.79 percent\n"
     ]
    }
   ],
   "source": [
    "# Decision Tree\n",
    "\n",
    "from sklearn.tree import DecisionTreeClassifier\n",
    "clf = DecisionTreeClassifier()\n",
    "clf.fit(x_train,y_train)\n",
    "y_pred_decision = clf.predict(x_test)\n",
    "acc_decision = round(accuracy_score(y_pred_decision,y_test)*100,2)\n",
    "accuracy_dic[\"acc_decision_tree\"] = acc_decision\n",
    "print (str(acc_decision)+' percent')"
   ]
  },
  {
   "cell_type": "code",
   "execution_count": 9,
   "metadata": {},
   "outputs": [
    {
     "name": "stdout",
     "output_type": "stream",
     "text": [
      "69.01 percent\n"
     ]
    }
   ],
   "source": [
    "# Random Forest\n",
    "\n",
    "from sklearn.ensemble import RandomForestClassifier\n",
    "clf = RandomForestClassifier(n_estimators=30)\n",
    "clf.fit(x_train,y_train)\n",
    "y_pred_random_forest = clf.predict(x_test)\n",
    "acc_random_forest = round(accuracy_score(y_pred_random_forest,y_test)*100,2)\n",
    "accuracy_dic[\"acc_random_forest\"] = acc_random_forest\n",
    "print (str(acc_random_forest)+' percent')"
   ]
  },
  {
   "cell_type": "code",
   "execution_count": 10,
   "metadata": {},
   "outputs": [
    {
     "data": {
      "text/plain": [
       "<matplotlib.axes._subplots.AxesSubplot at 0x1741a390>"
      ]
     },
     "execution_count": 10,
     "metadata": {},
     "output_type": "execute_result"
    },
    {
     "data": {
      "image/png": "[encoded data removed]",
      "text/plain": [
       "<matplotlib.figure.Figure at 0x173b2a20>"
      ]
     },
     "metadata": {},
     "output_type": "display_data"
    }
   ],
   "source": [
    "data_frame = pd.DataFrame({'Models':['Logistic Regression','K_NN','Naive Bayes','Decision Tree','Random Forest'],\n",
    "                         'Score':[acc_log_reg,acc_knn,acc_gnb,acc_decision,acc_random_forest]})\n",
    "import matplotlib.pyplot as plt\n",
    "%matplotlib inline\n",
    "import seaborn as sns\n",
    "sns.set()\n",
    "# data_frame.head()\n",
    "sns.barplot(x='Models',y='Score',data=data_frame)"
   ]
  }
 ],
 "metadata": {
  "kernelspec": {
   "display_name": "Python 2",
   "language": "python",
   "name": "python2"
  },
  "language_info": {
   "codemirror_mode": {
    "name": "ipython",
    "version": 2
   },
   "file_extension": ".py",
   "mimetype": "text/x-python",
   "name": "python",
   "nbconvert_exporter": "python",
   "pygments_lexer": "ipython2",
   "version": "2.7.14"
  }
 },
 "nbformat": 4,
 "nbformat_minor": 2
}
