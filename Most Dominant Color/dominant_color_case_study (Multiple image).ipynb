{
 "cells": [
  {
   "cell_type": "code",
   "execution_count": 1,
   "metadata": {},
   "outputs": [],
   "source": [
    "# Method to find the closest color on the basis of RGB value.\n",
    "def closest_colour(requested_colour):\n",
    "        min_colours = {}\n",
    "        for key, name in webcolors.css3_hex_to_names.items():\n",
    "            r_c, g_c, b_c = webcolors.hex_to_rgb(key)\n",
    "            rd = (r_c - requested_colour[0]) ** 2\n",
    "            gd = (g_c - requested_colour[1]) ** 2\n",
    "            bd = (b_c - requested_colour[2]) ** 2\n",
    "            min_colours[(rd + gd + bd)] = name\n",
    "        return min_colours[min(min_colours.keys())]\n",
    "\n",
    "def get_colour_name(requested_colour):\n",
    "        try:\n",
    "            closest_name = actual_name = webcolors.rgb_to_name(requested_colour)\n",
    "        except ValueError:\n",
    "            closest_name = closest_colour(requested_colour)\n",
    "            actual_name = None\n",
    "        return actual_name, closest_name\n",
    "    "
   ]
  },
  {
   "cell_type": "code",
   "execution_count": 2,
   "metadata": {},
   "outputs": [
    {
     "name": "stdout",
     "output_type": "stream",
     "text": [
      "image 0, Actual colour name: None , closest colour name: lightgray , percentage of it: 29.5768229167\n",
      "image 1, Actual colour name: None , closest colour name: darkslategray , percentage of it: 48.3447265625\n",
      "image 2, Actual colour name: None , closest colour name: black , percentage of it: 58.378357418\n",
      "image 3, Actual colour name: None , closest colour name: olivedrab , percentage of it: 65.4753904549\n",
      "image 4, Actual colour name: None , closest colour name: snow , percentage of it: 67.0250651042\n",
      "image 5, Actual colour name: None , closest colour name: grey , percentage of it: 61.07421875\n",
      "image 6, Actual colour name: None , closest colour name: snow , percentage of it: 58.462890625\n",
      "image 7, Actual colour name: None , closest colour name: whitesmoke , percentage of it: 70.9723307292\n",
      "image 8, Actual colour name: None , closest colour name: whitesmoke , percentage of it: 46.36328125\n",
      "image 9, Actual colour name: None , closest colour name: darkslategray , percentage of it: 53.5237630208\n",
      "image 10, Actual colour name: None , closest colour name: darkslategray , percentage of it: 56.6110026042\n",
      "image 11, Actual colour name: None , closest colour name: brown , percentage of it: 41.6536458333\n"
     ]
    }
   ],
   "source": [
    "from os import listdir\n",
    "from os.path import isfile, join\n",
    "import numpy\n",
    "import cv2\n",
    "from sklearn.cluster import KMeans\n",
    "import operator\n",
    "import webcolors\n",
    "\n",
    "mypath='Dominant Color Data Set/'\n",
    "onlyfiles = [ f for f in listdir(mypath) if isfile(join(mypath,f)) ]\n",
    "images = numpy.empty(len(onlyfiles), dtype=object)\n",
    "max_percentage = []\n",
    "color = []\n",
    "image_name = []\n",
    "count = 0\n",
    "for n in range(0, len(onlyfiles)):\n",
    "    image_name.append(str(count))\n",
    "    \n",
    "    images[n] = cv2.imread( join(mypath,onlyfiles[n]) )\n",
    "    image = images[n]\n",
    "    \n",
    "    image = cv2.cvtColor(image,cv2.COLOR_BGR2RGB)\n",
    "    image = image.reshape((image.shape[0] * image.shape[1]),3)\n",
    "    \n",
    "    K=4\n",
    "    clf = KMeans(n_clusters = K)\n",
    "    clf.fit(image)\n",
    "    \n",
    "    label = [0,0,0,0]\n",
    "    for ele in clf.labels_:\n",
    "        label[ele] += 1\n",
    "    label_sum = image.shape[0]\n",
    "    label = [(float(ele)/label_sum)*100 for ele in label]\n",
    "    \n",
    "    # to access max value along with index from a list\n",
    "    index, value = max(enumerate(label), key=operator.itemgetter(1))\n",
    "    max_percentage.append(value)\n",
    "    \n",
    "    ele = clf.cluster_centers_[index]\n",
    "    centroid = ele.astype(\"uint8\").tolist()\n",
    "\n",
    "    actual_name, closest_name = get_colour_name(centroid)\n",
    "    color.append(closest_name)\n",
    "    print \"image \"+str(count)+\", Actual colour name:\", actual_name, \", closest colour name:\", closest_name, \", percentage of it:\", value\n",
    "    count += 1"
   ]
  },
  {
   "cell_type": "code",
   "execution_count": 3,
   "metadata": {},
   "outputs": [
    {
     "data": {
      "text/plain": [
       "<matplotlib.axes._subplots.AxesSubplot at 0x19ebfc18>"
      ]
     },
     "execution_count": 3,
     "metadata": {},
     "output_type": "execute_result"
    },
    {
     "data": {
      "image/png": "[encoded data removed]",
      "text/plain": [
       "<matplotlib.figure.Figure at 0x19ebf320>"
      ]
     },
     "metadata": {},
     "output_type": "display_data"
    }
   ],
   "source": [
    "import matplotlib.pyplot as plt\n",
    "%matplotlib inline\n",
    "import pandas as pd\n",
    "import seaborn as sns\n",
    "df_plot = pd.DataFrame({'Colors':color,'Image Number':image_name,'Percentage':max_percentage})\n",
    "df_plot\n",
    "sns.set()\n",
    "sns.barplot(x='Image Number', y='Percentage', palette=color, data=df_plot)"
   ]
  }
 ],
 "metadata": {
  "kernelspec": {
   "display_name": "Python 2",
   "language": "python",
   "name": "python2"
  },
  "language_info": {
   "codemirror_mode": {
    "name": "ipython",
    "version": 2
   },
   "file_extension": ".py",
   "mimetype": "text/x-python",
   "name": "python",
   "nbconvert_exporter": "python",
   "pygments_lexer": "ipython2",
   "version": "2.7.14"
  }
 },
 "nbformat": 4,
 "nbformat_minor": 2
}
